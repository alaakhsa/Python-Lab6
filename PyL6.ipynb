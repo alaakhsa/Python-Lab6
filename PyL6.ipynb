{
 "cells": [
  {
   "cell_type": "code",
   "execution_count": 1,
   "id": "c8e08b4b",
   "metadata": {},
   "outputs": [
    {
     "name": "stdout",
     "output_type": "stream",
     "text": [
      "enter phone number: 5555555555\n",
      "Rawan\n"
     ]
    }
   ],
   "source": [
    "def getOwner(phoneNumber):\n",
    "    phoneBook = {\n",
    "\n",
    "        \"1111111111\": \"Amal\",\n",
    "        \"2222222222\": \"Mohammed\",\n",
    "          \"3333333333\": \"Khadijah\",\n",
    "        \"4444444444\": \"Abdullah\",\n",
    "        \"5555555555\": \"Rawan\",\n",
    "        \"6666666666\": \"Faisal\",\n",
    "        \"7777777777\": \"Layla\",\n",
    "    }\n",
    "    \n",
    "    if not phoneNumber.isdigit() or len(phoneNumber) != 10:\n",
    "        return \"This is invalid number\"\n",
    "    \n",
    "    owner = phoneBook.get(phoneNumber)\n",
    "    \n",
    "    if owner is not None:\n",
    "        return owner\n",
    "    else:\n",
    "        return \"Sorry, the number is not found\"\n",
    "\n",
    "\n",
    "# Receive phone number input from the user\n",
    "phoneNumber = input(\"enter phone number: \")\n",
    "\n",
    "# Get the owner and print the result\n",
    "result = getOwner(phoneNumber)\n",
    "print(result) "
   ]
  },
  {
   "cell_type": "code",
   "execution_count": null,
   "id": "b7caa408",
   "metadata": {},
   "outputs": [],
   "source": []
  }
 ],
 "metadata": {
  "kernelspec": {
   "display_name": "Python 3 (ipykernel)",
   "language": "python",
   "name": "python3"
  },
  "language_info": {
   "codemirror_mode": {
    "name": "ipython",
    "version": 3
   },
   "file_extension": ".py",
   "mimetype": "text/x-python",
   "name": "python",
   "nbconvert_exporter": "python",
   "pygments_lexer": "ipython3",
   "version": "3.11.3"
  }
 },
 "nbformat": 4,
 "nbformat_minor": 5
}
